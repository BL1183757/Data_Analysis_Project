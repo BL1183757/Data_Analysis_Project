{
 "cells": [
  {
   "cell_type": "markdown",
   "id": "f570d35a-1d30-49c7-94d2-b7e29536ce03",
   "metadata": {},
   "source": [
    "# *Data Science Test*"
   ]
  },
  {
   "cell_type": "code",
   "execution_count": null,
   "id": "85c77597-0356-4a32-8a41-fd2e7caf3c35",
   "metadata": {},
   "outputs": [],
   "source": []
  },
  {
   "cell_type": "markdown",
   "id": "502df3fd-d782-4db5-808e-f9477cfe88f8",
   "metadata": {},
   "source": [
    "## **`Data Collection`**"
   ]
  },
  {
   "cell_type": "markdown",
   "id": "bd1f7d63-5819-48b5-8944-2bc9c8fdf64a",
   "metadata": {},
   "source": [
    "#### MySQL Database\n",
    "*marks - 30*"
   ]
  },
  {
   "cell_type": "markdown",
   "id": "70fa794b-da38-45ed-b68b-1b193c34138b",
   "metadata": {},
   "source": [
    "**Q1. Perform the following queries on the below questions:**\n",
    "- Create a database named SchoolDB\n",
    "- Use the database SchoolDB\n",
    "- Create a table named Students with the following fields: StudentID, FirstName, LastName, DOB (Date of Birth), and Gender\n",
    "- Create a table named Courses with the following fields: CourseID, CourseName, and Credits\n",
    "- Create a table named Enrollments with fields: EnrollmentID, StudentID, CourseID, and Grade. Ensure StudentID and CourseID are foreign keys referencing the Students and Courses tables, respectively.\n",
    "- Insert five students into the Students table and five courses into the Courses table.\n",
    "- Enroll four students in various courses and assign grades.\n",
    "- Write a query to display all students’ first names, last names, and dates of birth.\n",
    "- Retrieve all the courses where students are enrolled. Display course names and student names (first and last)."
   ]
  },
  {
   "cell_type": "code",
   "execution_count": null,
   "id": "3dd10fcd-39aa-47f7-9198-ba3b506ff8c2",
   "metadata": {},
   "outputs": [],
   "source": []
  },
  {
   "cell_type": "markdown",
   "id": "766e4efe-1191-486f-be46-9534918bdba9",
   "metadata": {},
   "source": [
    "#### Web Scraping\n",
    "*marks - 20*"
   ]
  },
  {
   "cell_type": "markdown",
   "id": "ec690902-2216-444f-90eb-84337880e34f",
   "metadata": {},
   "source": [
    "https://www.worldometers.info/coronavirus/\n",
    "\n",
    "**Q2. Use the above mentioned url and scrape the data from table and store the data into a csv file.**"
   ]
  },
  {
   "cell_type": "code",
   "execution_count": null,
   "id": "45bae1e5-a3f1-4016-b1e0-abb53744ffb2",
   "metadata": {},
   "outputs": [],
   "source": []
  },
  {
   "cell_type": "markdown",
   "id": "63562baf-8979-4f98-929a-3134618f4d70",
   "metadata": {},
   "source": [
    "#### API\n",
    "\n",
    "*marks - 10*"
   ]
  },
  {
   "cell_type": "markdown",
   "id": "af8a2dc2-0caa-45ab-bcc6-0c2fae7abeee",
   "metadata": {},
   "source": [
    "**Q3. What is API? Explain the working of API.**\n",
    "\n",
    "**Q4. What are HTTP methods? Explain.**\n",
    "\n",
    "**Q5. How can you make an API request using the requests library in Python? Provide an example of making a GET request.**\n",
    "\n",
    "**Q6. Explain the difference between REST and SOAP APIs.**"
   ]
  },
  {
   "cell_type": "code",
   "execution_count": null,
   "id": "19e7b747-a378-4388-99e5-d5416459edca",
   "metadata": {},
   "outputs": [],
   "source": []
  },
  {
   "cell_type": "code",
   "execution_count": null,
   "id": "df838001-9785-4659-8465-338b98fb26a4",
   "metadata": {},
   "outputs": [],
   "source": []
  },
  {
   "cell_type": "markdown",
   "id": "718ee69b-3fb5-4e39-b005-84ed26236bba",
   "metadata": {},
   "source": [
    "## **`Statistics`**"
   ]
  },
  {
   "cell_type": "markdown",
   "id": "b22ab281-9c56-4e80-9a91-7ce626b90ae0",
   "metadata": {},
   "source": [
    "*Marks - 50*"
   ]
  },
  {
   "cell_type": "code",
   "execution_count": null,
   "id": "49700919-a001-49b7-ae99-95001c8631cb",
   "metadata": {},
   "outputs": [],
   "source": []
  },
  {
   "cell_type": "markdown",
   "id": "b7c9af38-3fd3-4ca9-bb89-7541c75cfc70",
   "metadata": {},
   "source": [
    "**Q1.You are given the following dataset of monthly salaries (in dollars) of 15 employees:**\n",
    "\n",
    "[2500, 3000, 3200, 2800, 2700, 2900, 3100, 2600, 2750, 3500, 4000, 3600, 3200, 3300, 3400]\n",
    "\n",
    "Calculate the mean salary.\n",
    "Find the median salary.\n",
    "Determine the mode of the dataset."
   ]
  },
  {
   "cell_type": "markdown",
   "id": "c5ee4fd7-1855-429d-902b-00c98f87dfb9",
   "metadata": {},
   "source": [
    "**Q2.Using the same dataset from Question 1, calculate the following:**\n",
    "\n",
    "- Range of the salaries.\n",
    "- Variance of the salaries.\n",
    "- Standard deviation of the salaries.\n",
    "- Explain what these statistics tell you about the distribution of the salaries."
   ]
  },
  {
   "cell_type": "markdown",
   "id": "3c9864ef-9f3d-4507-9a25-0ff6c1a3a3a7",
   "metadata": {},
   "source": [
    "**Q3.Given the dataset of salaries from Question 1:**\n",
    "\n",
    "- Calculate the first quartile (Q1), second quartile (Q2/median), and third quartile (Q3).\n",
    "- Compute the Interquartile Range (IQR).\n"
   ]
  },
  {
   "cell_type": "markdown",
   "id": "97999049-c893-4541-98fe-d5a4ed38d453",
   "metadata": {},
   "source": [
    "**Q4.You are given the following ages (in years) of 20 employees:**\n",
    "\n",
    "    [23, 26, 31, 35, 37, 42, 28, 33, 29, 34, 38, 40, 32, 30, 36, 27, 45, 39, 41, 43]\n",
    "\n",
    "- Create a grouped frequency table for the data. You can use either inclusive or exclusive method."
   ]
  },
  {
   "cell_type": "markdown",
   "id": "91471eb1-0641-4fa4-b2fb-bcc0f0a4a016",
   "metadata": {},
   "source": [
    "**Q5.A survey is conducted to study the heights of a group of students. The data is collected and follows a normal distribution with a mean height of 160 cm and a standard deviation of 8 cm.**\n",
    "\n",
    "- What percentage of students have heights between 152 cm and 168 cm?\n",
    "- If 200 students are surveyed, how many would you expect to have heights above 176 cm?"
   ]
  },
  {
   "cell_type": "code",
   "execution_count": null,
   "id": "e91a2b31-9d24-4962-9650-c4eb904b0b09",
   "metadata": {},
   "outputs": [],
   "source": []
  },
  {
   "cell_type": "code",
   "execution_count": null,
   "id": "e4d60600-2041-4209-9718-8676625362c4",
   "metadata": {},
   "outputs": [],
   "source": []
  },
  {
   "cell_type": "markdown",
   "id": "5a7f716f-5aa2-45ca-8745-b71766f9c31d",
   "metadata": {},
   "source": [
    "## **`NumPy`**"
   ]
  },
  {
   "cell_type": "markdown",
   "id": "b3ba1127-7f4f-49ec-ae4d-8b7cbf72ec0d",
   "metadata": {},
   "source": [
    "*marks - 50*"
   ]
  },
  {
   "cell_type": "markdown",
   "id": "461b7a6b-3eb5-432c-b0ab-6ebd83abba3b",
   "metadata": {},
   "source": [
    "**Q1.Create a 1D NumPy array of integers from 1 to 10 and reshape it into a 2D array with 2 rows.**"
   ]
  },
  {
   "cell_type": "markdown",
   "id": "99fe3f97-aab8-4045-ad69-0adb7a311620",
   "metadata": {},
   "source": [
    "**Q2.Given two arrays, a = np.array([1, 2, 3]) and b = np.array([4, 5, 6]), concatenate them horizontally and vertically. Show the results.**"
   ]
  },
  {
   "cell_type": "markdown",
   "id": "6b37b0fa-24ad-4382-a3a5-9bf0a7620dfb",
   "metadata": {},
   "source": [
    "**Q3.Create a 5x5 matrix with values ranging from 0 to 24, and extract the last two rows.**"
   ]
  },
  {
   "cell_type": "markdown",
   "id": "247b16a0-454c-4f66-8237-44d4e6cee0d9",
   "metadata": {},
   "source": [
    "**Q4.Assume you have a file data9.txt with the following content:**\n",
    "    \n",
    "            Item,Cost,Quantity\n",
    "            Laptop,999.99,1\n",
    "            Mouse,25.50,2\n",
    "            Keyboard,45.99,1\n",
    "- read the data, and calculate the total cost for each item and display the results."
   ]
  },
  {
   "cell_type": "markdown",
   "id": "dab449a3-e85b-4b61-bd2f-5b6493b52957",
   "metadata": {},
   "source": [
    "**Q5. Write a function that increases the brightness of an image by a given factor using NumPy.**"
   ]
  },
  {
   "cell_type": "code",
   "execution_count": null,
   "id": "69b9bef0-a26c-44bd-b49e-5ab7efbdcfa0",
   "metadata": {},
   "outputs": [],
   "source": []
  },
  {
   "cell_type": "markdown",
   "id": "5f47a1b5-7449-4e72-9fb0-c5d68f4000b9",
   "metadata": {},
   "source": [
    "## **`Pandas`**"
   ]
  },
  {
   "cell_type": "markdown",
   "id": "c0b32993-3909-4fb8-a76c-b44a424e137e",
   "metadata": {},
   "source": [
    "https://grrasteam-my.sharepoint.com/:f:/g/personal/deepratan_grrassolutions_in/EkRzEyGG3hpKjxiSs0v5k8UBdqh176G-ZPReIx0T0spDzA?e=9njvgh\n",
    "\n",
    "marks: 50\n",
    "\n",
    "Use the cars dataset, answer the following questions:\n",
    "1. Write a query to create a table called used_cars from data.\n",
    "2.  Write queries to see how many missing values you have in each attribute?\n",
    "    Based \n",
    "on the results, document how many missing values in each column we have\n",
    "     Especially,\n",
    "mention those columns with more than 50% missing value\n",
    "3. Group the price column and count the number of unique prices. Do you notice if there \n",
    "is a single price that is repeating across the ads\n",
    "4. Write a query to create a new table called clean_used_cars from used_cars with\n",
    "the following condition\n",
    "\n",
    "    o Drop the columns with more than 50% missing values \n",
    "    \n",
    "o The manufacture year between 2000 and 2017 including 2000 and 2017     \n",
    "o Both maker and model exist in the row     \n",
    "o The price range is from 3000 to 2000,000 (3000 ≤ price ≤ 2000,0\n",
    "   \n",
    "6. Write a query to find how many records remained clean_used_cars\n",
    "7. Write a query to find the make and model for the cars with the top 10 highest \n",
    "average pric\n",
    "8. Write a query to find the make and model for the cars with the top 10 lowest \n",
    "average pric\n",
    "9. Write a query to recommend top five make and model for Economic segment \n",
    "customers (Top five manufacturers in the 3000 to 20,000 price range;3000≤price<20,000) - \n",
    "based on the top average pri\n",
    "10. Write a query to recommend top five make and model for Intermediate segment \n",
    "customers (Top five manufacturers in the 20,000 to 300,000 price range; \n",
    "3000≤price<20,000) - based on the top average pri.\n",
    "11. Write a query to recommend the top five make and model for the Luxury segment \n",
    "customers (Top five manufacturers in the 300,000 to 2000,000 price range; \n",
    "300,000≤price<2000,000) - based on the top average price cecee e\n",
    " 00)00) "
   ]
  },
  {
   "cell_type": "markdown",
   "id": "7c813d8e-d466-47c4-85d7-3336ec11f1fa",
   "metadata": {},
   "source": []
  },
  {
   "cell_type": "markdown",
   "id": "191875ee-99bd-43ee-accf-5d7b918dca01",
   "metadata": {},
   "source": [
    "## **`Data Visualization`**\n",
    "*Matplotlib & Seaborn*"
   ]
  },
  {
   "cell_type": "markdown",
   "id": "eda23437-d027-4248-8869-95f3b3bea00f",
   "metadata": {},
   "source": [
    "*Marks - 50*"
   ]
  },
  {
   "cell_type": "markdown",
   "id": "d7a63c15-7e26-4b7d-8d91-fe4baae5bc1c",
   "metadata": {},
   "source": [
    "https://www.kaggle.com/datasets/ramjasmaurya/exports-and-imports-of-india19972022"
   ]
  },
  {
   "cell_type": "markdown",
   "id": "5d24f731-936c-439a-b86e-2ef9e4514f32",
   "metadata": {},
   "source": [
    "**Q1.Use the import & export dataset, answer the following questions:**\n",
    "    \n",
    "- Top 10 Trade partners of india with highest average Total Trade\n",
    "- Top 10 countries India has highest average Trade Balance with\n",
    "- Top 10 Trade partners of india based on Average Total Trade\n",
    "- Create a line plot showing the total exports and imports of India across all countries from 1997 to 2022.\n",
    "- Create a pie chart showing the share of exports from India to different countries in a year 2020."
   ]
  },
  {
   "cell_type": "code",
   "execution_count": null,
   "id": "00648488",
   "metadata": {},
   "outputs": [],
   "source": []
  },
  {
   "cell_type": "code",
   "execution_count": null,
   "id": "392e5b89",
   "metadata": {},
   "outputs": [],
   "source": []
  },
  {
   "cell_type": "markdown",
   "id": "de32e7c9",
   "metadata": {},
   "source": []
  }
 ],
 "metadata": {
  "kernelspec": {
   "display_name": "base",
   "language": "python",
   "name": "python3"
  },
  "language_info": {
   "codemirror_mode": {
    "name": "ipython",
    "version": 3
   },
   "file_extension": ".py",
   "mimetype": "text/x-python",
   "name": "python",
   "nbconvert_exporter": "python",
   "pygments_lexer": "ipython3",
   "version": "3.12.4"
  }
 },
 "nbformat": 4,
 "nbformat_minor": 5
}
